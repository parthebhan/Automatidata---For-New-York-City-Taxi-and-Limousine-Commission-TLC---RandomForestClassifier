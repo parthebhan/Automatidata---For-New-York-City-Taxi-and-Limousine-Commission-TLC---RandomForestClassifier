{
 "cells": [
  {
   "cell_type": "markdown",
   "id": "2eaebe0c-ac6f-4f3f-a74d-3ba0afe638be",
   "metadata": {},
   "source": [
    "# Automatidata -  Exploratory Data Analysis"
   ]
  },
  {
   "cell_type": "markdown",
   "id": "7b51dffd-7809-4f47-9d31-d8baf0d12ab0",
   "metadata": {
    "jp-MarkdownHeadingCollapsed": true
   },
   "source": [
    "**The goal** of this model is to predict whether a TikTok video presents a \"claim\" or presents an \"opinion\".\n",
    "<br/>\n",
    "\n",
    "**Part 1:** Ethical considerations\n",
    "\n",
    "**Part 2:** Feature engineering\n",
    "\n",
    "**Part 3:** Modeling\n",
    "\n",
    "This project aims to conduct exploratory data analysis (EDA) and visualization for the New York City Taxi and Limousine Commission (TLC) dataset. The analysis includes data structuring, cleaning, and visualization using Python and Tableau to understand taxi ridership patterns.\n",
    "\n",
    "Data Structuring and Cleaning\n",
    "\n",
    "The dataset was loaded into Python, and data structuring and cleaning tasks were performed. This involved handling missing values, converting data types, and ensuring data consistency.\n",
    "\n",
    "Exploratory Data Analysis (EDA)\n",
    "\n",
    "EDA was conducted using matplotlib and seaborn libraries in Python. Key visualizations include box plots of ride durations and time series plots showing taxi rides breakdown by quarter or month. These visualizations provide insights into ride duration distributions and temporal patterns in taxi ridership.\n",
    "\n",
    "Tableau Visualizations\n",
    "\n",
    "Tableau was utilized to create interactive and accessible visualizations for the New York City TLC dataset. A Tableau dashboard was designed to display a map of taxi/limo trips by month, catering to both data-savvy individuals and those with visual impairments.\n"
   ]
  },
  {
   "cell_type": "markdown",
   "id": "b5b04762-bf03-4681-8d06-2de17c86677a",
   "metadata": {
    "jp-MarkdownHeadingCollapsed": true
   },
   "source": [
    "# Visualize a story in Tableau and Python\n"
   ]
  },
  {
   "cell_type": "markdown",
   "id": "36ceef28-6a2f-4a77-981b-d5ae6a842e1c",
   "metadata": {},
   "source": [
    "# **PACE stages** \n",
    "\n",
    "\n",
    "<img src=\"images/Pace.png\" width=\"100\" height=\"100\" align=left>\n",
    "\n",
    "   *        [Plan]\n",
    "   *        [Analyze]\n",
    "   *        [Construct]\n",
    "   *        [Execute]"
   ]
  },
  {
   "cell_type": "markdown",
   "id": "fd2cf562-e905-4648-8be3-130603e480e6",
   "metadata": {},
   "source": [
    "<img src=\"images/Plan.png\" width=\"100\" height=\"100\" align=left>\n",
    "\n",
    "\n",
    "## PACE: Plan \n",
    "\n",
    "In this stage, consider the following questions where applicable :\n",
    "\n",
    "## Identify any outliers:\n",
    "\n",
    "*   What methods are best for identifying outliers?\n",
    "  * Use numpy functions to investigate the `mean()` and `median()` of the data and understand range of data values\n",
    "  * Use a boxplot to visualize the distribution of the data\n",
    "  * Use histograms to visualize the distribution of the data\n",
    "*   How do you make the decision to keep or exclude outliers from any future models?\n",
    "  * There are three main options for dealing with outliers: keeping them as they are, deleting them, or reassigning them. Whether you keep outliers as they are, delete them, or reassign values is a decision that you make taking into account the nature of the outlying data and the assumptions of the model you are building. To help you make the decision, you can start with these general guidelines:\n",
    "\n",
    "      * Delete them: If you are sure the outliers are mistakes, typos, or errors and the dataset will be used for modeling or machine learning, then you are more likely to decide to delete outliers. Of the three choices, you’ll use this one the least.\n",
    "      * Reassign them: If the dataset is small and/or the data will be used for modeling or machine learning, you are more likely to choose a path of deriving new values to replace the outlier values.\n",
    "      * Leave them: For a dataset that you plan to do EDA/analysis on and nothing else, or for a dataset you are preparing for a model that is resistant to outliers, it is most likely that you are going to leave them in.\n"
   ]
  },
  {
   "cell_type": "markdown",
   "id": "bd649af6-38fb-4920-b31c-d0ac03e76078",
   "metadata": {},
   "source": [
    "### Task 1. Imports, links, and loading"
   ]
  },
  {
   "cell_type": "code",
   "execution_count": 1,
   "id": "93d183ba-4fd2-4a60-8a82-3e253315f66e",
   "metadata": {
    "jp-MarkdownHeadingCollapsed": true
   },
   "outputs": [],
   "source": [
    "import pandas as pd\n",
    "import numpy as np\n",
    "\n",
    "import matplotlib.pyplot as plt\n",
    "import seaborn as sns \n",
    "\n",
    "import datetime as dt\n",
    "\n",
    "import warnings\n",
    "warnings.filterwarnings(\"ignore\")"
   ]
  },
  {
   "cell_type": "code",
   "execution_count": 2,
   "id": "2dc5d49d-9367-464f-9c62-42ef11e1adb1",
   "metadata": {},
   "outputs": [],
   "source": [
    "df= pd.read_csv(\"2017_Yellow_Taxi_Trip_Data.csv\", index_col = 0)"
   ]
  },
  {
   "cell_type": "markdown",
   "id": "a9f7c3e1-d3ea-4181-a663-d41a388a95aa",
   "metadata": {},
   "source": [
    "<img src=\"images/Analyze.png\" width=\"100\" height=\"100\" align=left>\n",
    "\n",
    "## PACE: Analyze \n",
    "\n",
    "Consider these questions in your PACE Strategy Document to reflect on the Analyze stage."
   ]
  },
  {
   "cell_type": "markdown",
   "id": "0ffccbcd-c2ee-4335-b2af-f0d37f9cc673",
   "metadata": {},
   "source": [
    "Consider functions that understand and structure the data. \n",
    "\n",
    "*    `head()`\n",
    "*    `describe()`\n",
    "*    `info()`\n",
    "*    `groupby()`\n",
    "*    `sortby()`\n",
    "\n",
    "  Start by discovering, using head and size. "
   ]
  },
  {
   "cell_type": "code",
   "execution_count": 3,
   "id": "aa9ad233-42c2-4fe2-84d0-31a2c8c2eb6d",
   "metadata": {},
   "outputs": [
    {
     "data": {
      "text/html": [
       "<div>\n",
       "<style scoped>\n",
       "    .dataframe tbody tr th:only-of-type {\n",
       "        vertical-align: middle;\n",
       "    }\n",
       "\n",
       "    .dataframe tbody tr th {\n",
       "        vertical-align: top;\n",
       "    }\n",
       "\n",
       "    .dataframe thead th {\n",
       "        text-align: right;\n",
       "    }\n",
       "</style>\n",
       "<table border=\"1\" class=\"dataframe\">\n",
       "  <thead>\n",
       "    <tr style=\"text-align: right;\">\n",
       "      <th></th>\n",
       "      <th>VendorID</th>\n",
       "      <th>tpep_pickup_datetime</th>\n",
       "      <th>tpep_dropoff_datetime</th>\n",
       "      <th>passenger_count</th>\n",
       "      <th>trip_distance</th>\n",
       "      <th>RatecodeID</th>\n",
       "      <th>store_and_fwd_flag</th>\n",
       "      <th>PULocationID</th>\n",
       "      <th>DOLocationID</th>\n",
       "      <th>payment_type</th>\n",
       "      <th>fare_amount</th>\n",
       "      <th>extra</th>\n",
       "      <th>mta_tax</th>\n",
       "      <th>tip_amount</th>\n",
       "      <th>tolls_amount</th>\n",
       "      <th>improvement_surcharge</th>\n",
       "      <th>total_amount</th>\n",
       "    </tr>\n",
       "  </thead>\n",
       "  <tbody>\n",
       "    <tr>\n",
       "      <th>24870114</th>\n",
       "      <td>2</td>\n",
       "      <td>03/25/2017 8:55:43 AM</td>\n",
       "      <td>03/25/2017 9:09:47 AM</td>\n",
       "      <td>6</td>\n",
       "      <td>3.34</td>\n",
       "      <td>1</td>\n",
       "      <td>N</td>\n",
       "      <td>100</td>\n",
       "      <td>231</td>\n",
       "      <td>1</td>\n",
       "      <td>13.0</td>\n",
       "      <td>0.0</td>\n",
       "      <td>0.5</td>\n",
       "      <td>2.76</td>\n",
       "      <td>0.0</td>\n",
       "      <td>0.3</td>\n",
       "      <td>16.56</td>\n",
       "    </tr>\n",
       "    <tr>\n",
       "      <th>35634249</th>\n",
       "      <td>1</td>\n",
       "      <td>04/11/2017 2:53:28 PM</td>\n",
       "      <td>04/11/2017 3:19:58 PM</td>\n",
       "      <td>1</td>\n",
       "      <td>1.80</td>\n",
       "      <td>1</td>\n",
       "      <td>N</td>\n",
       "      <td>186</td>\n",
       "      <td>43</td>\n",
       "      <td>1</td>\n",
       "      <td>16.0</td>\n",
       "      <td>0.0</td>\n",
       "      <td>0.5</td>\n",
       "      <td>4.00</td>\n",
       "      <td>0.0</td>\n",
       "      <td>0.3</td>\n",
       "      <td>20.80</td>\n",
       "    </tr>\n",
       "    <tr>\n",
       "      <th>106203690</th>\n",
       "      <td>1</td>\n",
       "      <td>12/15/2017 7:26:56 AM</td>\n",
       "      <td>12/15/2017 7:34:08 AM</td>\n",
       "      <td>1</td>\n",
       "      <td>1.00</td>\n",
       "      <td>1</td>\n",
       "      <td>N</td>\n",
       "      <td>262</td>\n",
       "      <td>236</td>\n",
       "      <td>1</td>\n",
       "      <td>6.5</td>\n",
       "      <td>0.0</td>\n",
       "      <td>0.5</td>\n",
       "      <td>1.45</td>\n",
       "      <td>0.0</td>\n",
       "      <td>0.3</td>\n",
       "      <td>8.75</td>\n",
       "    </tr>\n",
       "    <tr>\n",
       "      <th>38942136</th>\n",
       "      <td>2</td>\n",
       "      <td>05/07/2017 1:17:59 PM</td>\n",
       "      <td>05/07/2017 1:48:14 PM</td>\n",
       "      <td>1</td>\n",
       "      <td>3.70</td>\n",
       "      <td>1</td>\n",
       "      <td>N</td>\n",
       "      <td>188</td>\n",
       "      <td>97</td>\n",
       "      <td>1</td>\n",
       "      <td>20.5</td>\n",
       "      <td>0.0</td>\n",
       "      <td>0.5</td>\n",
       "      <td>6.39</td>\n",
       "      <td>0.0</td>\n",
       "      <td>0.3</td>\n",
       "      <td>27.69</td>\n",
       "    </tr>\n",
       "    <tr>\n",
       "      <th>30841670</th>\n",
       "      <td>2</td>\n",
       "      <td>04/15/2017 11:32:20 PM</td>\n",
       "      <td>04/15/2017 11:49:03 PM</td>\n",
       "      <td>1</td>\n",
       "      <td>4.37</td>\n",
       "      <td>1</td>\n",
       "      <td>N</td>\n",
       "      <td>4</td>\n",
       "      <td>112</td>\n",
       "      <td>2</td>\n",
       "      <td>16.5</td>\n",
       "      <td>0.5</td>\n",
       "      <td>0.5</td>\n",
       "      <td>0.00</td>\n",
       "      <td>0.0</td>\n",
       "      <td>0.3</td>\n",
       "      <td>17.80</td>\n",
       "    </tr>\n",
       "    <tr>\n",
       "      <th>23345809</th>\n",
       "      <td>2</td>\n",
       "      <td>03/25/2017 8:34:11 PM</td>\n",
       "      <td>03/25/2017 8:42:11 PM</td>\n",
       "      <td>6</td>\n",
       "      <td>2.30</td>\n",
       "      <td>1</td>\n",
       "      <td>N</td>\n",
       "      <td>161</td>\n",
       "      <td>236</td>\n",
       "      <td>1</td>\n",
       "      <td>9.0</td>\n",
       "      <td>0.5</td>\n",
       "      <td>0.5</td>\n",
       "      <td>2.06</td>\n",
       "      <td>0.0</td>\n",
       "      <td>0.3</td>\n",
       "      <td>12.36</td>\n",
       "    </tr>\n",
       "    <tr>\n",
       "      <th>37660487</th>\n",
       "      <td>2</td>\n",
       "      <td>05/03/2017 7:04:09 PM</td>\n",
       "      <td>05/03/2017 8:03:47 PM</td>\n",
       "      <td>1</td>\n",
       "      <td>12.83</td>\n",
       "      <td>1</td>\n",
       "      <td>N</td>\n",
       "      <td>79</td>\n",
       "      <td>241</td>\n",
       "      <td>1</td>\n",
       "      <td>47.5</td>\n",
       "      <td>1.0</td>\n",
       "      <td>0.5</td>\n",
       "      <td>9.86</td>\n",
       "      <td>0.0</td>\n",
       "      <td>0.3</td>\n",
       "      <td>59.16</td>\n",
       "    </tr>\n",
       "    <tr>\n",
       "      <th>69059411</th>\n",
       "      <td>2</td>\n",
       "      <td>08/15/2017 5:41:06 PM</td>\n",
       "      <td>08/15/2017 6:03:05 PM</td>\n",
       "      <td>1</td>\n",
       "      <td>2.98</td>\n",
       "      <td>1</td>\n",
       "      <td>N</td>\n",
       "      <td>237</td>\n",
       "      <td>114</td>\n",
       "      <td>1</td>\n",
       "      <td>16.0</td>\n",
       "      <td>1.0</td>\n",
       "      <td>0.5</td>\n",
       "      <td>1.78</td>\n",
       "      <td>0.0</td>\n",
       "      <td>0.3</td>\n",
       "      <td>19.58</td>\n",
       "    </tr>\n",
       "    <tr>\n",
       "      <th>8433159</th>\n",
       "      <td>2</td>\n",
       "      <td>02/04/2017 4:17:07 PM</td>\n",
       "      <td>02/04/2017 4:29:14 PM</td>\n",
       "      <td>1</td>\n",
       "      <td>1.20</td>\n",
       "      <td>1</td>\n",
       "      <td>N</td>\n",
       "      <td>234</td>\n",
       "      <td>249</td>\n",
       "      <td>2</td>\n",
       "      <td>9.0</td>\n",
       "      <td>0.0</td>\n",
       "      <td>0.5</td>\n",
       "      <td>0.00</td>\n",
       "      <td>0.0</td>\n",
       "      <td>0.3</td>\n",
       "      <td>9.80</td>\n",
       "    </tr>\n",
       "    <tr>\n",
       "      <th>95294817</th>\n",
       "      <td>1</td>\n",
       "      <td>11/10/2017 3:20:29 PM</td>\n",
       "      <td>11/10/2017 3:40:55 PM</td>\n",
       "      <td>1</td>\n",
       "      <td>1.60</td>\n",
       "      <td>1</td>\n",
       "      <td>N</td>\n",
       "      <td>239</td>\n",
       "      <td>237</td>\n",
       "      <td>1</td>\n",
       "      <td>13.0</td>\n",
       "      <td>0.0</td>\n",
       "      <td>0.5</td>\n",
       "      <td>2.75</td>\n",
       "      <td>0.0</td>\n",
       "      <td>0.3</td>\n",
       "      <td>16.55</td>\n",
       "    </tr>\n",
       "  </tbody>\n",
       "</table>\n",
       "</div>"
      ],
      "text/plain": [
       "           VendorID    tpep_pickup_datetime   tpep_dropoff_datetime  \\\n",
       "24870114          2   03/25/2017 8:55:43 AM   03/25/2017 9:09:47 AM   \n",
       "35634249          1   04/11/2017 2:53:28 PM   04/11/2017 3:19:58 PM   \n",
       "106203690         1   12/15/2017 7:26:56 AM   12/15/2017 7:34:08 AM   \n",
       "38942136          2   05/07/2017 1:17:59 PM   05/07/2017 1:48:14 PM   \n",
       "30841670          2  04/15/2017 11:32:20 PM  04/15/2017 11:49:03 PM   \n",
       "23345809          2   03/25/2017 8:34:11 PM   03/25/2017 8:42:11 PM   \n",
       "37660487          2   05/03/2017 7:04:09 PM   05/03/2017 8:03:47 PM   \n",
       "69059411          2   08/15/2017 5:41:06 PM   08/15/2017 6:03:05 PM   \n",
       "8433159           2   02/04/2017 4:17:07 PM   02/04/2017 4:29:14 PM   \n",
       "95294817          1   11/10/2017 3:20:29 PM   11/10/2017 3:40:55 PM   \n",
       "\n",
       "           passenger_count  trip_distance  RatecodeID store_and_fwd_flag  \\\n",
       "24870114                 6           3.34           1                  N   \n",
       "35634249                 1           1.80           1                  N   \n",
       "106203690                1           1.00           1                  N   \n",
       "38942136                 1           3.70           1                  N   \n",
       "30841670                 1           4.37           1                  N   \n",
       "23345809                 6           2.30           1                  N   \n",
       "37660487                 1          12.83           1                  N   \n",
       "69059411                 1           2.98           1                  N   \n",
       "8433159                  1           1.20           1                  N   \n",
       "95294817                 1           1.60           1                  N   \n",
       "\n",
       "           PULocationID  DOLocationID  payment_type  fare_amount  extra  \\\n",
       "24870114            100           231             1         13.0    0.0   \n",
       "35634249            186            43             1         16.0    0.0   \n",
       "106203690           262           236             1          6.5    0.0   \n",
       "38942136            188            97             1         20.5    0.0   \n",
       "30841670              4           112             2         16.5    0.5   \n",
       "23345809            161           236             1          9.0    0.5   \n",
       "37660487             79           241             1         47.5    1.0   \n",
       "69059411            237           114             1         16.0    1.0   \n",
       "8433159             234           249             2          9.0    0.0   \n",
       "95294817            239           237             1         13.0    0.0   \n",
       "\n",
       "           mta_tax  tip_amount  tolls_amount  improvement_surcharge  \\\n",
       "24870114       0.5        2.76           0.0                    0.3   \n",
       "35634249       0.5        4.00           0.0                    0.3   \n",
       "106203690      0.5        1.45           0.0                    0.3   \n",
       "38942136       0.5        6.39           0.0                    0.3   \n",
       "30841670       0.5        0.00           0.0                    0.3   \n",
       "23345809       0.5        2.06           0.0                    0.3   \n",
       "37660487       0.5        9.86           0.0                    0.3   \n",
       "69059411       0.5        1.78           0.0                    0.3   \n",
       "8433159        0.5        0.00           0.0                    0.3   \n",
       "95294817       0.5        2.75           0.0                    0.3   \n",
       "\n",
       "           total_amount  \n",
       "24870114          16.56  \n",
       "35634249          20.80  \n",
       "106203690          8.75  \n",
       "38942136          27.69  \n",
       "30841670          17.80  \n",
       "23345809          12.36  \n",
       "37660487          59.16  \n",
       "69059411          19.58  \n",
       "8433159            9.80  \n",
       "95294817          16.55  "
      ]
     },
     "execution_count": 3,
     "metadata": {},
     "output_type": "execute_result"
    }
   ],
   "source": [
    "df.head(10)"
   ]
  },
  {
   "cell_type": "code",
   "execution_count": 4,
   "id": "ead307c7-5b39-44a6-a699-1439da9fc8ae",
   "metadata": {},
   "outputs": [
    {
     "data": {
      "text/plain": [
       "385883"
      ]
     },
     "execution_count": 4,
     "metadata": {},
     "output_type": "execute_result"
    }
   ],
   "source": [
    "df.size"
   ]
  },
  {
   "cell_type": "code",
   "execution_count": 5,
   "id": "87a890e4-4638-4d30-bb77-00c745a6c5f4",
   "metadata": {},
   "outputs": [
    {
     "data": {
      "text/html": [
       "<div>\n",
       "<style scoped>\n",
       "    .dataframe tbody tr th:only-of-type {\n",
       "        vertical-align: middle;\n",
       "    }\n",
       "\n",
       "    .dataframe tbody tr th {\n",
       "        vertical-align: top;\n",
       "    }\n",
       "\n",
       "    .dataframe thead th {\n",
       "        text-align: right;\n",
       "    }\n",
       "</style>\n",
       "<table border=\"1\" class=\"dataframe\">\n",
       "  <thead>\n",
       "    <tr style=\"text-align: right;\">\n",
       "      <th></th>\n",
       "      <th>VendorID</th>\n",
       "      <th>passenger_count</th>\n",
       "      <th>trip_distance</th>\n",
       "      <th>RatecodeID</th>\n",
       "      <th>PULocationID</th>\n",
       "      <th>DOLocationID</th>\n",
       "      <th>payment_type</th>\n",
       "      <th>fare_amount</th>\n",
       "      <th>extra</th>\n",
       "      <th>mta_tax</th>\n",
       "      <th>tip_amount</th>\n",
       "      <th>tolls_amount</th>\n",
       "      <th>improvement_surcharge</th>\n",
       "      <th>total_amount</th>\n",
       "    </tr>\n",
       "  </thead>\n",
       "  <tbody>\n",
       "    <tr>\n",
       "      <th>count</th>\n",
       "      <td>22699.000000</td>\n",
       "      <td>22699.000000</td>\n",
       "      <td>22699.000000</td>\n",
       "      <td>22699.000000</td>\n",
       "      <td>22699.000000</td>\n",
       "      <td>22699.000000</td>\n",
       "      <td>22699.000000</td>\n",
       "      <td>22699.000000</td>\n",
       "      <td>22699.000000</td>\n",
       "      <td>22699.000000</td>\n",
       "      <td>22699.000000</td>\n",
       "      <td>22699.000000</td>\n",
       "      <td>22699.000000</td>\n",
       "      <td>22699.000000</td>\n",
       "    </tr>\n",
       "    <tr>\n",
       "      <th>mean</th>\n",
       "      <td>1.556236</td>\n",
       "      <td>1.642319</td>\n",
       "      <td>2.913313</td>\n",
       "      <td>1.043394</td>\n",
       "      <td>162.412353</td>\n",
       "      <td>161.527997</td>\n",
       "      <td>1.336887</td>\n",
       "      <td>13.026629</td>\n",
       "      <td>0.333275</td>\n",
       "      <td>0.497445</td>\n",
       "      <td>1.835781</td>\n",
       "      <td>0.312542</td>\n",
       "      <td>0.299551</td>\n",
       "      <td>16.310502</td>\n",
       "    </tr>\n",
       "    <tr>\n",
       "      <th>std</th>\n",
       "      <td>0.496838</td>\n",
       "      <td>1.285231</td>\n",
       "      <td>3.653171</td>\n",
       "      <td>0.708391</td>\n",
       "      <td>66.633373</td>\n",
       "      <td>70.139691</td>\n",
       "      <td>0.496211</td>\n",
       "      <td>13.243791</td>\n",
       "      <td>0.463097</td>\n",
       "      <td>0.039465</td>\n",
       "      <td>2.800626</td>\n",
       "      <td>1.399212</td>\n",
       "      <td>0.015673</td>\n",
       "      <td>16.097295</td>\n",
       "    </tr>\n",
       "    <tr>\n",
       "      <th>min</th>\n",
       "      <td>1.000000</td>\n",
       "      <td>0.000000</td>\n",
       "      <td>0.000000</td>\n",
       "      <td>1.000000</td>\n",
       "      <td>1.000000</td>\n",
       "      <td>1.000000</td>\n",
       "      <td>1.000000</td>\n",
       "      <td>-120.000000</td>\n",
       "      <td>-1.000000</td>\n",
       "      <td>-0.500000</td>\n",
       "      <td>0.000000</td>\n",
       "      <td>0.000000</td>\n",
       "      <td>-0.300000</td>\n",
       "      <td>-120.300000</td>\n",
       "    </tr>\n",
       "    <tr>\n",
       "      <th>25%</th>\n",
       "      <td>1.000000</td>\n",
       "      <td>1.000000</td>\n",
       "      <td>0.990000</td>\n",
       "      <td>1.000000</td>\n",
       "      <td>114.000000</td>\n",
       "      <td>112.000000</td>\n",
       "      <td>1.000000</td>\n",
       "      <td>6.500000</td>\n",
       "      <td>0.000000</td>\n",
       "      <td>0.500000</td>\n",
       "      <td>0.000000</td>\n",
       "      <td>0.000000</td>\n",
       "      <td>0.300000</td>\n",
       "      <td>8.750000</td>\n",
       "    </tr>\n",
       "    <tr>\n",
       "      <th>50%</th>\n",
       "      <td>2.000000</td>\n",
       "      <td>1.000000</td>\n",
       "      <td>1.610000</td>\n",
       "      <td>1.000000</td>\n",
       "      <td>162.000000</td>\n",
       "      <td>162.000000</td>\n",
       "      <td>1.000000</td>\n",
       "      <td>9.500000</td>\n",
       "      <td>0.000000</td>\n",
       "      <td>0.500000</td>\n",
       "      <td>1.350000</td>\n",
       "      <td>0.000000</td>\n",
       "      <td>0.300000</td>\n",
       "      <td>11.800000</td>\n",
       "    </tr>\n",
       "    <tr>\n",
       "      <th>75%</th>\n",
       "      <td>2.000000</td>\n",
       "      <td>2.000000</td>\n",
       "      <td>3.060000</td>\n",
       "      <td>1.000000</td>\n",
       "      <td>233.000000</td>\n",
       "      <td>233.000000</td>\n",
       "      <td>2.000000</td>\n",
       "      <td>14.500000</td>\n",
       "      <td>0.500000</td>\n",
       "      <td>0.500000</td>\n",
       "      <td>2.450000</td>\n",
       "      <td>0.000000</td>\n",
       "      <td>0.300000</td>\n",
       "      <td>17.800000</td>\n",
       "    </tr>\n",
       "    <tr>\n",
       "      <th>max</th>\n",
       "      <td>2.000000</td>\n",
       "      <td>6.000000</td>\n",
       "      <td>33.960000</td>\n",
       "      <td>99.000000</td>\n",
       "      <td>265.000000</td>\n",
       "      <td>265.000000</td>\n",
       "      <td>4.000000</td>\n",
       "      <td>999.990000</td>\n",
       "      <td>4.500000</td>\n",
       "      <td>0.500000</td>\n",
       "      <td>200.000000</td>\n",
       "      <td>19.100000</td>\n",
       "      <td>0.300000</td>\n",
       "      <td>1200.290000</td>\n",
       "    </tr>\n",
       "  </tbody>\n",
       "</table>\n",
       "</div>"
      ],
      "text/plain": [
       "           VendorID  passenger_count  trip_distance    RatecodeID  \\\n",
       "count  22699.000000     22699.000000   22699.000000  22699.000000   \n",
       "mean       1.556236         1.642319       2.913313      1.043394   \n",
       "std        0.496838         1.285231       3.653171      0.708391   \n",
       "min        1.000000         0.000000       0.000000      1.000000   \n",
       "25%        1.000000         1.000000       0.990000      1.000000   \n",
       "50%        2.000000         1.000000       1.610000      1.000000   \n",
       "75%        2.000000         2.000000       3.060000      1.000000   \n",
       "max        2.000000         6.000000      33.960000     99.000000   \n",
       "\n",
       "       PULocationID  DOLocationID  payment_type   fare_amount         extra  \\\n",
       "count  22699.000000  22699.000000  22699.000000  22699.000000  22699.000000   \n",
       "mean     162.412353    161.527997      1.336887     13.026629      0.333275   \n",
       "std       66.633373     70.139691      0.496211     13.243791      0.463097   \n",
       "min        1.000000      1.000000      1.000000   -120.000000     -1.000000   \n",
       "25%      114.000000    112.000000      1.000000      6.500000      0.000000   \n",
       "50%      162.000000    162.000000      1.000000      9.500000      0.000000   \n",
       "75%      233.000000    233.000000      2.000000     14.500000      0.500000   \n",
       "max      265.000000    265.000000      4.000000    999.990000      4.500000   \n",
       "\n",
       "            mta_tax    tip_amount  tolls_amount  improvement_surcharge  \\\n",
       "count  22699.000000  22699.000000  22699.000000           22699.000000   \n",
       "mean       0.497445      1.835781      0.312542               0.299551   \n",
       "std        0.039465      2.800626      1.399212               0.015673   \n",
       "min       -0.500000      0.000000      0.000000              -0.300000   \n",
       "25%        0.500000      0.000000      0.000000               0.300000   \n",
       "50%        0.500000      1.350000      0.000000               0.300000   \n",
       "75%        0.500000      2.450000      0.000000               0.300000   \n",
       "max        0.500000    200.000000     19.100000               0.300000   \n",
       "\n",
       "       total_amount  \n",
       "count  22699.000000  \n",
       "mean      16.310502  \n",
       "std       16.097295  \n",
       "min     -120.300000  \n",
       "25%        8.750000  \n",
       "50%       11.800000  \n",
       "75%       17.800000  \n",
       "max     1200.290000  "
      ]
     },
     "execution_count": 5,
     "metadata": {},
     "output_type": "execute_result"
    }
   ],
   "source": [
    "df.describe()"
   ]
  },
  {
   "cell_type": "code",
   "execution_count": 6,
   "id": "09463fb9-68d0-466c-9119-edeb52b215b7",
   "metadata": {},
   "outputs": [
    {
     "name": "stdout",
     "output_type": "stream",
     "text": [
      "<class 'pandas.core.frame.DataFrame'>\n",
      "Index: 22699 entries, 24870114 to 17208911\n",
      "Data columns (total 17 columns):\n",
      " #   Column                 Non-Null Count  Dtype  \n",
      "---  ------                 --------------  -----  \n",
      " 0   VendorID               22699 non-null  int64  \n",
      " 1   tpep_pickup_datetime   22699 non-null  object \n",
      " 2   tpep_dropoff_datetime  22699 non-null  object \n",
      " 3   passenger_count        22699 non-null  int64  \n",
      " 4   trip_distance          22699 non-null  float64\n",
      " 5   RatecodeID             22699 non-null  int64  \n",
      " 6   store_and_fwd_flag     22699 non-null  object \n",
      " 7   PULocationID           22699 non-null  int64  \n",
      " 8   DOLocationID           22699 non-null  int64  \n",
      " 9   payment_type           22699 non-null  int64  \n",
      " 10  fare_amount            22699 non-null  float64\n",
      " 11  extra                  22699 non-null  float64\n",
      " 12  mta_tax                22699 non-null  float64\n",
      " 13  tip_amount             22699 non-null  float64\n",
      " 14  tolls_amount           22699 non-null  float64\n",
      " 15  improvement_surcharge  22699 non-null  float64\n",
      " 16  total_amount           22699 non-null  float64\n",
      "dtypes: float64(8), int64(6), object(3)\n",
      "memory usage: 3.1+ MB\n"
     ]
    }
   ],
   "source": [
    "df.info()"
   ]
  },
  {
   "cell_type": "markdown",
   "id": "f7bd1b57-e3d0-40de-af4f-6c9708cad22f",
   "metadata": {},
   "source": [
    "There is no missing data according to the results from the `info()` function. "
   ]
  },
  {
   "cell_type": "markdown",
   "id": "8506e8b7-daec-43d7-828a-89f1e61cf252",
   "metadata": {},
   "source": [
    "###  Select visualization type(s)"
   ]
  },
  {
   "cell_type": "markdown",
   "id": "5267ab02-c863-4ffa-ac43-d83a170a6c5c",
   "metadata": {},
   "source": [
    "Select data visualization types that will help you understand and explain the data.\n",
    "\n",
    "Now that you know which data columns you’ll use, it is time to decide which data visualization makes the most sense for EDA of the TLC dataset. What type of data visualization(s) would be most helpful? \n",
    "\n",
    "* Line graph\n",
    "* Bar chart\n",
    "* Box plot\n",
    "* Histogram\n",
    "* Heat map\n",
    "* Scatter plot\n",
    "* A geographic map"
   ]
  },
  {
   "cell_type": "markdown",
   "id": "e13c4617-537e-4e6a-bc7d-7104ad23dbfc",
   "metadata": {},
   "source": [
    "A bar chart, box plot and scatter plot will be most helpful in your understanding of this data. \n",
    "\n",
    "*A box plot will be helpful to determine outliers and where the bulk of the data points reside in terms of `trip_distance`, `duration`, and `total_amount`*\n",
    "\n",
    "*A scatter plot will be helpful to visualize the trends and patters and outliers of critical variables, such as `trip_distance` and `total_amount`*\n",
    "\n",
    "*A bar chart will help determine average number of trips per month, weekday, weekend, etc.*"
   ]
  },
  {
   "cell_type": "markdown",
   "id": "f10339ea-ddd4-4eec-af0f-77f86d93b29b",
   "metadata": {},
   "source": [
    "<img src=\"images/Construct.png\" width=\"100\" height=\"100\" align=left>\n",
    "\n",
    "## PACE: Construct \n",
    "\n",
    "Consider these questions in your PACE Strategy Document to reflect on the Construct stage.\n",
    "\n",
    "### Task 3. Data visualization\n",
    "\n",
    "It’s time to plot your visualization(s)!\n",
    "\n",
    "## Boxplots\n",
    "\n",
    "Perform a check for outliers on relevant columns such as trip distance and trip duration. Remember, some of the best ways to identify the presence of outliers in data are box plots and histograms. "
   ]
  },
  {
   "cell_type": "code",
   "execution_count": 7,
   "id": "6037198b-6762-4770-8e30-f6787657faba",
   "metadata": {},
   "outputs": [],
   "source": [
    "# Convert data columns to datetime\n",
    "df['tpep_pickup_datetime']=pd.to_datetime(df['tpep_pickup_datetime'])\n",
    "df['tpep_dropoff_datetime']=pd.to_datetime(df['tpep_dropoff_datetime'])"
   ]
  },
  {
   "cell_type": "markdown",
   "id": "9cdaa890-eda4-4d95-8419-61b9edb45252",
   "metadata": {},
   "source": [
    "### **trip_distance**"
   ]
  },
  {
   "cell_type": "code",
   "execution_count": 8,
   "id": "2d433189-1a05-4633-8c71-399dac23d2f8",
   "metadata": {},
   "outputs": [
    {
     "data": {
      "image/png": "[encoded data removed]",
      "text/plain": [
       "<Figure size 700x200 with 1 Axes>"
      ]
     },
     "metadata": {},
     "output_type": "display_data"
    }
   ],
   "source": [
    "# Create box plot of trip_distance\n",
    "plt.figure(figsize=(7,2))\n",
    "plt.title('trip_distance')\n",
    "sns.boxplot(data=None, x=df['trip_distance'], fliersize=1);\n"
   ]
  },
  {
   "cell_type": "code",
   "execution_count": 9,
   "id": "ff514fd0-8bee-4b53-9082-02e27f6f0f80",
   "metadata": {},
   "outputs": [
    {
     "data": {
      "image/png": "[encoded data removed]",
      "text/plain": [
       "<Figure size 1000x500 with 1 Axes>"
      ]
     },
     "metadata": {},
     "output_type": "display_data"
    }
   ],
   "source": [
    "# Create histogram of trip_distance\n",
    "plt.figure(figsize=(10,5))\n",
    "sns.histplot(df['trip_distance'], bins=range(0,26,1))\n",
    "plt.title('Trip distance histogram');"
   ]
  },
  {
   "cell_type": "markdown",
   "id": "5a3f3e19-9065-44ee-92f4-6e5ff5f8fdf5",
   "metadata": {},
   "source": [
    "**Note:**<br>\n",
    "The majority of trips were journeys of less than two miles. The number of trips falls away steeply as the distance traveled increases beyond two miles."
   ]
  },
  {
   "cell_type": "markdown",
   "id": "2ae14d67-a7ab-4971-809d-b959fdc7621c",
   "metadata": {},
   "source": [
    "### **total_amount**"
   ]
  },
  {
   "cell_type": "code",
   "execution_count": 10,
   "id": "68eabc79-48fb-4593-a572-e63a7346a844",
   "metadata": {},
   "outputs": [
    {
     "data": {
      "image/png": "[encoded data removed]",
      "text/plain": [
       "<Figure size 700x200 with 1 Axes>"
      ]
     },
     "metadata": {},
     "output_type": "display_data"
    }
   ],
   "source": [
    "# Create box plot of total_amount\n",
    "plt.figure(figsize=(7,2))\n",
    "plt.title('total_amount')\n",
    "sns.boxplot(x=df['total_amount'], fliersize=1);"
   ]
  },
  {
   "cell_type": "code",
   "execution_count": 11,
   "id": "d1632790-a06f-468a-b1d4-dc0b40e4d0de",
   "metadata": {},
   "outputs": [
    {
     "data": {
      "image/png": "[encoded data removed]",
      "text/plain": [
       "<Figure size 1200x600 with 1 Axes>"
      ]
     },
     "metadata": {},
     "output_type": "display_data"
    }
   ],
   "source": [
    "# Create histogram of tip_amount\n",
    "plt.figure(figsize=(12,6))\n",
    "ax = sns.histplot(df['tip_amount'], bins=range(0,21,1))\n",
    "ax.set_xticks(range(0,21,2))\n",
    "ax.set_xticklabels(range(0,21,2))\n",
    "plt.title('Tip amount histogram');"
   ]
  },
  {
   "cell_type": "markdown",
   "id": "cc2fd1b6-5632-4a5e-b9d7-e1b24984d0c8",
   "metadata": {},
   "source": [
    "**Note:**<br>\n",
    "The distribution for tip amount is right-skewed, with nearly all the tips in the $0-3 range."
   ]
  },
  {
   "cell_type": "markdown",
   "id": "4b2a34b3-94e5-4a86-8c15-d842ab81c2b5",
   "metadata": {},
   "source": [
    "### **tip_amount by vendor**"
   ]
  },
  {
   "cell_type": "code",
   "execution_count": 12,
   "id": "03b58220-f2d5-40c6-859f-daeecc0ca8b7",
   "metadata": {},
   "outputs": [
    {
     "data": {
      "image/png": "[encoded data removed]",
      "text/plain": [
       "<Figure size 1200x700 with 1 Axes>"
      ]
     },
     "metadata": {},
     "output_type": "display_data"
    }
   ],
   "source": [
    "# Create histogram of tip_amount by vendor\n",
    "plt.figure(figsize=(12,7))\n",
    "ax = sns.histplot(data=df, x='tip_amount', bins=range(0,21,1), \n",
    "                  hue='VendorID', \n",
    "                  multiple='stack',\n",
    "                  palette='pastel')\n",
    "ax.set_xticks(range(0,21,1))\n",
    "ax.set_xticklabels(range(0,21,1))\n",
    "plt.title('Tip amount by vendor histogram');"
   ]
  },
  {
   "cell_type": "markdown",
   "id": "1b9ef60e-3a74-4fb9-ab03-116e9f655636",
   "metadata": {},
   "source": [
    "**Note:**<br>\n",
    "Separating the tip amount by vendor reveals that there are no noticeable aberrations in the distribution of tips between the two vendors in the dataset. Vendor two has a slightly higher share of the rides, and this proportion is approximately maintained for all tip amounts.\n",
    "\n",
    "Next, zoom in on the upper end of the range of tips to check whether vendor one gets noticeably more of the most generous tips."
   ]
  },
  {
   "cell_type": "code",
   "execution_count": 13,
   "id": "401289b1-a14c-41a4-8092-28f72245fc0f",
   "metadata": {},
   "outputs": [
    {
     "data": {
      "image/png": "[encoded data removed]",
      "text/plain": [
       "<Figure size 1200x700 with 1 Axes>"
      ]
     },
     "metadata": {},
     "output_type": "display_data"
    }
   ],
   "source": [
    "# Create histogram of tip_amount by vendor for tips > $10 \n",
    "tips_over_ten = df[df['tip_amount'] > 10]\n",
    "plt.figure(figsize=(12,7))\n",
    "ax = sns.histplot(data=tips_over_ten, x='tip_amount', bins=range(10,21,1), \n",
    "                  hue='VendorID', \n",
    "                  multiple='stack',\n",
    "                  palette='pastel')\n",
    "ax.set_xticks(range(10,21,1))\n",
    "ax.set_xticklabels(range(10,21,1))\n",
    "plt.title('Tip amount by vendor histogram');"
   ]
  },
  {
   "cell_type": "markdown",
   "id": "89c2e6fb-8a3f-4c26-bbec-3d77179e0c77",
   "metadata": {},
   "source": [
    "**Note:**<br>\n",
    " The proportions are maintained even at these higher tip amounts, with the exception being at highest extremity, but this is not noteworthy due to the low sample size at these tip amounts."
   ]
  },
  {
   "cell_type": "markdown",
   "id": "7072b05d-d626-4e63-bde5-a6bdd0b4ad20",
   "metadata": {},
   "source": [
    "### **Mean tips by passenger count**\n",
    "\n",
    "Examine the unique values in the `passenger_count` column."
   ]
  },
  {
   "cell_type": "code",
   "execution_count": 14,
   "id": "c10791ae-478a-442b-9445-e4886184ce7e",
   "metadata": {},
   "outputs": [
    {
     "data": {
      "text/plain": [
       "passenger_count\n",
       "1    16117\n",
       "2     3305\n",
       "5     1143\n",
       "3      953\n",
       "6      693\n",
       "4      455\n",
       "0       33\n",
       "Name: count, dtype: int64"
      ]
     },
     "execution_count": 14,
     "metadata": {},
     "output_type": "execute_result"
    }
   ],
   "source": [
    "df['passenger_count'].value_counts()"
   ]
  },
  {
   "cell_type": "markdown",
   "id": "08498ec0-4c51-4902-bf00-ccfbc72a59c5",
   "metadata": {},
   "source": [
    "**Note:**<br>\n",
    "Nearly two thirds of the rides were single occupancy, though there were still nearly 700 rides with as many as six passengers. Also, there are 33 rides with an occupancy count of zero, which doesn't make sense. These would likely be dropped unless a reasonable explanation can be found for them."
   ]
  },
  {
   "cell_type": "markdown",
   "id": "8d585b76-8c54-483f-908c-0f689d762802",
   "metadata": {},
   "source": [
    "### **Create month and day columns**"
   ]
  },
  {
   "cell_type": "code",
   "execution_count": 15,
   "id": "40f42667-92ac-4034-a1cd-61bd5b2fa572",
   "metadata": {},
   "outputs": [],
   "source": [
    "# Create a month column\n",
    "df['month'] = df['tpep_pickup_datetime'].dt.month_name()\n",
    "# Create a day column\n",
    "df['day'] = df['tpep_pickup_datetime'].dt.day_name()"
   ]
  },
  {
   "cell_type": "markdown",
   "id": "c9758822-1f81-48ce-8663-09315d2ef035",
   "metadata": {},
   "source": [
    "### **Plot total ride count by month**\n",
    "\n",
    "Begin by calculating total ride count by month."
   ]
  },
  {
   "cell_type": "code",
   "execution_count": 16,
   "id": "ee8a476a-6fa1-4ea0-9fd3-fb1529b38628",
   "metadata": {},
   "outputs": [
    {
     "data": {
      "text/plain": [
       "month\n",
       "March        2049\n",
       "October      2027\n",
       "April        2019\n",
       "May          2013\n",
       "January      1997\n",
       "June         1964\n",
       "December     1863\n",
       "November     1843\n",
       "February     1769\n",
       "September    1734\n",
       "August       1724\n",
       "July         1697\n",
       "Name: count, dtype: int64"
      ]
     },
     "execution_count": 16,
     "metadata": {},
     "output_type": "execute_result"
    }
   ],
   "source": [
    "# Get total number of rides for each month\n",
    "monthly_rides = df['month'].value_counts()\n",
    "monthly_rides"
   ]
  },
  {
   "cell_type": "markdown",
   "id": "8c57e31e-578b-493a-a049-eaab2a6202b4",
   "metadata": {},
   "source": [
    "**Note:** The months are out of order.\n",
    "\n",
    "Reorder the results to put the months in calendar order."
   ]
  },
  {
   "cell_type": "code",
   "execution_count": 17,
   "id": "c61a7704-2ead-40a9-87f4-1fbace15b710",
   "metadata": {},
   "outputs": [
    {
     "data": {
      "text/plain": [
       "month\n",
       "January      1997\n",
       "February     1769\n",
       "March        2049\n",
       "April        2019\n",
       "May          2013\n",
       "June         1964\n",
       "July         1697\n",
       "August       1724\n",
       "September    1734\n",
       "October      2027\n",
       "November     1843\n",
       "December     1863\n",
       "Name: count, dtype: int64"
      ]
     },
     "execution_count": 17,
     "metadata": {},
     "output_type": "execute_result"
    }
   ],
   "source": [
    "# Reorder the monthly ride list so months go in order\n",
    "month_order = ['January', 'February', 'March', 'April', 'May', 'June', 'July',\n",
    "         'August', 'September', 'October', 'November', 'December']\n",
    "\n",
    "monthly_rides = monthly_rides.reindex(index=month_order)\n",
    "monthly_rides"
   ]
  },
  {
   "cell_type": "code",
   "execution_count": 18,
   "id": "58abfde7-d61d-475e-90a5-fb0c5ab24b96",
   "metadata": {},
   "outputs": [
    {
     "data": {
      "text/plain": [
       "Index(['January', 'February', 'March', 'April', 'May', 'June', 'July',\n",
       "       'August', 'September', 'October', 'November', 'December'],\n",
       "      dtype='object', name='month')"
      ]
     },
     "execution_count": 18,
     "metadata": {},
     "output_type": "execute_result"
    }
   ],
   "source": [
    "# Show the index\n",
    "monthly_rides.index"
   ]
  },
  {
   "cell_type": "code",
   "execution_count": 19,
   "id": "318a83b5-2dbc-4b6a-9b81-69d1efbdba26",
   "metadata": {},
   "outputs": [
    {
     "data": {
      "image/png": "[encoded data removed]",
      "text/plain": [
       "<Figure size 1200x700 with 1 Axes>"
      ]
     },
     "metadata": {},
     "output_type": "display_data"
    }
   ],
   "source": [
    "# Create a bar plot of total rides per month\n",
    "plt.figure(figsize=(12,7))\n",
    "ax = sns.barplot(x=monthly_rides.index, y=monthly_rides)\n",
    "ax.set_xticklabels(month_order)\n",
    "plt.title('Ride count by month', fontsize=16);"
   ]
  },
  {
   "cell_type": "markdown",
   "id": "5264e59d-b6c1-4646-aaab-78cd62bfc149",
   "metadata": {},
   "source": [
    "**Note:** Monthly rides are fairly consistent, with notable dips in the summer months of July, August, and September, and also in February."
   ]
  },
  {
   "cell_type": "markdown",
   "id": "a32fb960-7ef8-4624-85df-96477313875b",
   "metadata": {},
   "source": [
    "**Plot total ride count by day**\n",
    "\n",
    "Repeat the above process, but now calculate the total rides by day of the week."
   ]
  },
  {
   "cell_type": "code",
   "execution_count": 20,
   "id": "772066f7-bdcf-4b71-a298-599cb8867e67",
   "metadata": {},
   "outputs": [
    {
     "data": {
      "text/plain": [
       "day\n",
       "Monday       2931\n",
       "Tuesday      3198\n",
       "Wednesday    3390\n",
       "Thursday     3402\n",
       "Friday       3413\n",
       "Saturday     3367\n",
       "Sunday       2998\n",
       "Name: count, dtype: int64"
      ]
     },
     "execution_count": 20,
     "metadata": {},
     "output_type": "execute_result"
    }
   ],
   "source": [
    "# Repeat the above process, this time for rides by day\n",
    "daily_rides = df['day'].value_counts()\n",
    "day_order = ['Monday', 'Tuesday', 'Wednesday', 'Thursday', 'Friday', 'Saturday', 'Sunday']\n",
    "daily_rides = daily_rides.reindex(index=day_order)\n",
    "daily_rides"
   ]
  },
  {
   "cell_type": "code",
   "execution_count": 21,
   "id": "8953a74c-eab8-49eb-9a45-6ca2439d20c4",
   "metadata": {},
   "outputs": [
    {
     "data": {
      "image/png": "[encoded data removed]",
      "text/plain": [
       "<Figure size 1200x700 with 1 Axes>"
      ]
     },
     "metadata": {},
     "output_type": "display_data"
    }
   ],
   "source": [
    "# Create bar plot for ride count by day\n",
    "plt.figure(figsize=(12,7))\n",
    "ax = sns.barplot(x=daily_rides.index, y=daily_rides)\n",
    "ax.set_xticklabels(day_order)\n",
    "ax.set_ylabel('Count')\n",
    "plt.title('Ride count by day', fontsize=16);"
   ]
  },
  {
   "cell_type": "markdown",
   "id": "82f58b37-7419-4799-ae16-62cf62b0bfde",
   "metadata": {},
   "source": [
    "**Note:** Suprisingly, Wednesday through Saturday had the highest number of daily rides, while Sunday and Monday had the least."
   ]
  },
  {
   "cell_type": "markdown",
   "id": "9b3b0453-9401-4241-91b2-97ad035fd979",
   "metadata": {},
   "source": [
    "**Plot total revenue by day of the week**\n",
    "\n",
    "Repeat the above process, but now calculate the total revenue by day of the week."
   ]
  },
  {
   "cell_type": "code",
   "execution_count": 22,
   "id": "ef5b5941-1ee2-4dd6-a4ca-76725cdfecb3",
   "metadata": {},
   "outputs": [
    {
     "data": {
      "text/html": [
       "<div>\n",
       "<style scoped>\n",
       "    .dataframe tbody tr th:only-of-type {\n",
       "        vertical-align: middle;\n",
       "    }\n",
       "\n",
       "    .dataframe tbody tr th {\n",
       "        vertical-align: top;\n",
       "    }\n",
       "\n",
       "    .dataframe thead th {\n",
       "        text-align: right;\n",
       "    }\n",
       "</style>\n",
       "<table border=\"1\" class=\"dataframe\">\n",
       "  <thead>\n",
       "    <tr style=\"text-align: right;\">\n",
       "      <th></th>\n",
       "      <th>VendorID</th>\n",
       "      <th>passenger_count</th>\n",
       "      <th>trip_distance</th>\n",
       "      <th>RatecodeID</th>\n",
       "      <th>PULocationID</th>\n",
       "      <th>DOLocationID</th>\n",
       "      <th>payment_type</th>\n",
       "      <th>fare_amount</th>\n",
       "      <th>extra</th>\n",
       "      <th>mta_tax</th>\n",
       "      <th>tip_amount</th>\n",
       "      <th>tolls_amount</th>\n",
       "      <th>improvement_surcharge</th>\n",
       "      <th>total_amount</th>\n",
       "    </tr>\n",
       "    <tr>\n",
       "      <th>day</th>\n",
       "      <th></th>\n",
       "      <th></th>\n",
       "      <th></th>\n",
       "      <th></th>\n",
       "      <th></th>\n",
       "      <th></th>\n",
       "      <th></th>\n",
       "      <th></th>\n",
       "      <th></th>\n",
       "      <th></th>\n",
       "      <th></th>\n",
       "      <th></th>\n",
       "      <th></th>\n",
       "      <th></th>\n",
       "    </tr>\n",
       "  </thead>\n",
       "  <tbody>\n",
       "    <tr>\n",
       "      <th>Monday</th>\n",
       "      <td>4566</td>\n",
       "      <td>4750</td>\n",
       "      <td>8982.68</td>\n",
       "      <td>3066</td>\n",
       "      <td>477752</td>\n",
       "      <td>477443</td>\n",
       "      <td>3946</td>\n",
       "      <td>39371.69</td>\n",
       "      <td>1100.0</td>\n",
       "      <td>1457.5</td>\n",
       "      <td>5673.91</td>\n",
       "      <td>1084.62</td>\n",
       "      <td>877.8</td>\n",
       "      <td>49574.37</td>\n",
       "    </tr>\n",
       "    <tr>\n",
       "      <th>Tuesday</th>\n",
       "      <td>5007</td>\n",
       "      <td>5178</td>\n",
       "      <td>8972.77</td>\n",
       "      <td>3409</td>\n",
       "      <td>526710</td>\n",
       "      <td>526927</td>\n",
       "      <td>4229</td>\n",
       "      <td>41743.20</td>\n",
       "      <td>1249.0</td>\n",
       "      <td>1592.0</td>\n",
       "      <td>5964.30</td>\n",
       "      <td>1009.64</td>\n",
       "      <td>958.2</td>\n",
       "      <td>52527.14</td>\n",
       "    </tr>\n",
       "    <tr>\n",
       "      <th>Wednesday</th>\n",
       "      <td>5243</td>\n",
       "      <td>5462</td>\n",
       "      <td>9583.64</td>\n",
       "      <td>3485</td>\n",
       "      <td>559642</td>\n",
       "      <td>554199</td>\n",
       "      <td>4440</td>\n",
       "      <td>43685.76</td>\n",
       "      <td>1346.0</td>\n",
       "      <td>1689.5</td>\n",
       "      <td>6497.50</td>\n",
       "      <td>1052.66</td>\n",
       "      <td>1015.5</td>\n",
       "      <td>55310.47</td>\n",
       "    </tr>\n",
       "    <tr>\n",
       "      <th>Thursday</th>\n",
       "      <td>5322</td>\n",
       "      <td>5471</td>\n",
       "      <td>9942.02</td>\n",
       "      <td>3545</td>\n",
       "      <td>553548</td>\n",
       "      <td>556385</td>\n",
       "      <td>4492</td>\n",
       "      <td>45496.85</td>\n",
       "      <td>1327.5</td>\n",
       "      <td>1689.5</td>\n",
       "      <td>6466.49</td>\n",
       "      <td>1151.87</td>\n",
       "      <td>1019.1</td>\n",
       "      <td>57181.91</td>\n",
       "    </tr>\n",
       "    <tr>\n",
       "      <th>Friday</th>\n",
       "      <td>5289</td>\n",
       "      <td>5571</td>\n",
       "      <td>9614.48</td>\n",
       "      <td>3542</td>\n",
       "      <td>550811</td>\n",
       "      <td>551032</td>\n",
       "      <td>4548</td>\n",
       "      <td>44300.81</td>\n",
       "      <td>1344.0</td>\n",
       "      <td>1698.5</td>\n",
       "      <td>6288.13</td>\n",
       "      <td>1146.00</td>\n",
       "      <td>1022.7</td>\n",
       "      <td>55818.74</td>\n",
       "    </tr>\n",
       "    <tr>\n",
       "      <th>Saturday</th>\n",
       "      <td>5203</td>\n",
       "      <td>5766</td>\n",
       "      <td>9468.15</td>\n",
       "      <td>3502</td>\n",
       "      <td>536470</td>\n",
       "      <td>523051</td>\n",
       "      <td>4598</td>\n",
       "      <td>41585.01</td>\n",
       "      <td>655.5</td>\n",
       "      <td>1674.0</td>\n",
       "      <td>5518.40</td>\n",
       "      <td>748.34</td>\n",
       "      <td>1008.3</td>\n",
       "      <td>51195.40</td>\n",
       "    </tr>\n",
       "    <tr>\n",
       "      <th>Sunday</th>\n",
       "      <td>4695</td>\n",
       "      <td>5081</td>\n",
       "      <td>9565.55</td>\n",
       "      <td>3135</td>\n",
       "      <td>481665</td>\n",
       "      <td>477487</td>\n",
       "      <td>4093</td>\n",
       "      <td>39508.14</td>\n",
       "      <td>543.0</td>\n",
       "      <td>1490.5</td>\n",
       "      <td>5261.67</td>\n",
       "      <td>901.25</td>\n",
       "      <td>897.9</td>\n",
       "      <td>48624.06</td>\n",
       "    </tr>\n",
       "  </tbody>\n",
       "</table>\n",
       "</div>"
      ],
      "text/plain": [
       "           VendorID  passenger_count  trip_distance  RatecodeID  PULocationID  \\\n",
       "day                                                                             \n",
       "Monday         4566             4750        8982.68        3066        477752   \n",
       "Tuesday        5007             5178        8972.77        3409        526710   \n",
       "Wednesday      5243             5462        9583.64        3485        559642   \n",
       "Thursday       5322             5471        9942.02        3545        553548   \n",
       "Friday         5289             5571        9614.48        3542        550811   \n",
       "Saturday       5203             5766        9468.15        3502        536470   \n",
       "Sunday         4695             5081        9565.55        3135        481665   \n",
       "\n",
       "           DOLocationID  payment_type  fare_amount   extra  mta_tax  \\\n",
       "day                                                                   \n",
       "Monday           477443          3946     39371.69  1100.0   1457.5   \n",
       "Tuesday          526927          4229     41743.20  1249.0   1592.0   \n",
       "Wednesday        554199          4440     43685.76  1346.0   1689.5   \n",
       "Thursday         556385          4492     45496.85  1327.5   1689.5   \n",
       "Friday           551032          4548     44300.81  1344.0   1698.5   \n",
       "Saturday         523051          4598     41585.01   655.5   1674.0   \n",
       "Sunday           477487          4093     39508.14   543.0   1490.5   \n",
       "\n",
       "           tip_amount  tolls_amount  improvement_surcharge  total_amount  \n",
       "day                                                                       \n",
       "Monday        5673.91       1084.62                  877.8      49574.37  \n",
       "Tuesday       5964.30       1009.64                  958.2      52527.14  \n",
       "Wednesday     6497.50       1052.66                 1015.5      55310.47  \n",
       "Thursday      6466.49       1151.87                 1019.1      57181.91  \n",
       "Friday        6288.13       1146.00                 1022.7      55818.74  \n",
       "Saturday      5518.40        748.34                 1008.3      51195.40  \n",
       "Sunday        5261.67        901.25                  897.9      48624.06  "
      ]
     },
     "execution_count": 22,
     "metadata": {},
     "output_type": "execute_result"
    }
   ],
   "source": [
    "# Filter numeric columns\n",
    "numeric_cols = df.select_dtypes(include=np.number).columns\n",
    "\n",
    "# Calculate the sum of numeric columns by day\n",
    "total_amount_day = df.groupby('day')[numeric_cols].sum()\n",
    "\n",
    "# Reindex to ensure all days are included\n",
    "total_amount_day = total_amount_day.reindex(index=day_order)\n",
    "total_amount_day\n"
   ]
  },
  {
   "cell_type": "code",
   "execution_count": 23,
   "id": "a2c0d98a-591b-4afe-993a-75bae03bbb31",
   "metadata": {},
   "outputs": [
    {
     "data": {
      "image/png": "[encoded data removed]",
      "text/plain": [
       "<Figure size 1200x700 with 1 Axes>"
      ]
     },
     "metadata": {},
     "output_type": "display_data"
    }
   ],
   "source": [
    "# Create bar plot of total revenue by day\n",
    "plt.figure(figsize=(12,7))\n",
    "ax = sns.barplot(x=total_amount_day.index, y=total_amount_day['total_amount'])\n",
    "ax.set_xticklabels(day_order)\n",
    "ax.set_ylabel('Revenue (USD)')\n",
    "plt.title('Total revenue by day', fontsize=16);\n"
   ]
  },
  {
   "cell_type": "markdown",
   "id": "cad98919-d3c3-4579-b1b4-a394c3e263b6",
   "metadata": {},
   "source": [
    "**Note:** Thursday had the highest gross revenue of all days, and Sunday and Monday had the least. Interestingly, although Saturday had only 35 fewer rides than Thursday, its gross revenue was ~$6,000 less than Thursday's&mdash;more than a 10% drop."
   ]
  },
  {
   "cell_type": "markdown",
   "id": "8147f55b-7a3a-443f-b67b-19ac57d9bf35",
   "metadata": {},
   "source": [
    "**Plot total revenue by month**"
   ]
  },
  {
   "cell_type": "code",
   "execution_count": 24,
   "id": "08842770-fb19-46ff-a9e4-34e8c3fc489f",
   "metadata": {},
   "outputs": [
    {
     "data": {
      "text/html": [
       "<div>\n",
       "<style scoped>\n",
       "    .dataframe tbody tr th:only-of-type {\n",
       "        vertical-align: middle;\n",
       "    }\n",
       "\n",
       "    .dataframe tbody tr th {\n",
       "        vertical-align: top;\n",
       "    }\n",
       "\n",
       "    .dataframe thead th {\n",
       "        text-align: right;\n",
       "    }\n",
       "</style>\n",
       "<table border=\"1\" class=\"dataframe\">\n",
       "  <thead>\n",
       "    <tr style=\"text-align: right;\">\n",
       "      <th></th>\n",
       "      <th>VendorID</th>\n",
       "      <th>passenger_count</th>\n",
       "      <th>trip_distance</th>\n",
       "      <th>RatecodeID</th>\n",
       "      <th>PULocationID</th>\n",
       "      <th>DOLocationID</th>\n",
       "      <th>payment_type</th>\n",
       "      <th>fare_amount</th>\n",
       "      <th>extra</th>\n",
       "      <th>mta_tax</th>\n",
       "      <th>tip_amount</th>\n",
       "      <th>tolls_amount</th>\n",
       "      <th>improvement_surcharge</th>\n",
       "      <th>total_amount</th>\n",
       "    </tr>\n",
       "    <tr>\n",
       "      <th>month</th>\n",
       "      <th></th>\n",
       "      <th></th>\n",
       "      <th></th>\n",
       "      <th></th>\n",
       "      <th></th>\n",
       "      <th></th>\n",
       "      <th></th>\n",
       "      <th></th>\n",
       "      <th></th>\n",
       "      <th></th>\n",
       "      <th></th>\n",
       "      <th></th>\n",
       "      <th></th>\n",
       "      <th></th>\n",
       "    </tr>\n",
       "  </thead>\n",
       "  <tbody>\n",
       "    <tr>\n",
       "      <th>January</th>\n",
       "      <td>3109</td>\n",
       "      <td>3332</td>\n",
       "      <td>5656.20</td>\n",
       "      <td>2084</td>\n",
       "      <td>329368</td>\n",
       "      <td>322659</td>\n",
       "      <td>2651</td>\n",
       "      <td>25287.20</td>\n",
       "      <td>628.5</td>\n",
       "      <td>994.0</td>\n",
       "      <td>3574.85</td>\n",
       "      <td>637.50</td>\n",
       "      <td>598.5</td>\n",
       "      <td>31735.25</td>\n",
       "    </tr>\n",
       "    <tr>\n",
       "      <th>February</th>\n",
       "      <td>2737</td>\n",
       "      <td>2911</td>\n",
       "      <td>5009.69</td>\n",
       "      <td>1834</td>\n",
       "      <td>288824</td>\n",
       "      <td>285397</td>\n",
       "      <td>2315</td>\n",
       "      <td>23006.19</td>\n",
       "      <td>599.0</td>\n",
       "      <td>880.5</td>\n",
       "      <td>3422.28</td>\n",
       "      <td>489.02</td>\n",
       "      <td>530.1</td>\n",
       "      <td>28937.89</td>\n",
       "    </tr>\n",
       "    <tr>\n",
       "      <th>March</th>\n",
       "      <td>3171</td>\n",
       "      <td>3316</td>\n",
       "      <td>5907.93</td>\n",
       "      <td>2140</td>\n",
       "      <td>332704</td>\n",
       "      <td>332632</td>\n",
       "      <td>2740</td>\n",
       "      <td>26439.54</td>\n",
       "      <td>708.5</td>\n",
       "      <td>1018.0</td>\n",
       "      <td>3708.97</td>\n",
       "      <td>590.48</td>\n",
       "      <td>613.5</td>\n",
       "      <td>33085.89</td>\n",
       "    </tr>\n",
       "    <tr>\n",
       "      <th>April</th>\n",
       "      <td>3138</td>\n",
       "      <td>3233</td>\n",
       "      <td>5925.07</td>\n",
       "      <td>2196</td>\n",
       "      <td>332870</td>\n",
       "      <td>328181</td>\n",
       "      <td>2727</td>\n",
       "      <td>25536.20</td>\n",
       "      <td>662.5</td>\n",
       "      <td>1004.5</td>\n",
       "      <td>3594.32</td>\n",
       "      <td>602.72</td>\n",
       "      <td>604.5</td>\n",
       "      <td>32012.54</td>\n",
       "    </tr>\n",
       "    <tr>\n",
       "      <th>May</th>\n",
       "      <td>3117</td>\n",
       "      <td>3308</td>\n",
       "      <td>6065.43</td>\n",
       "      <td>2083</td>\n",
       "      <td>327583</td>\n",
       "      <td>320431</td>\n",
       "      <td>2697</td>\n",
       "      <td>26970.02</td>\n",
       "      <td>696.5</td>\n",
       "      <td>1003.5</td>\n",
       "      <td>3912.94</td>\n",
       "      <td>621.62</td>\n",
       "      <td>603.3</td>\n",
       "      <td>33828.58</td>\n",
       "    </tr>\n",
       "    <tr>\n",
       "      <th>June</th>\n",
       "      <td>3072</td>\n",
       "      <td>3270</td>\n",
       "      <td>5846.83</td>\n",
       "      <td>2056</td>\n",
       "      <td>317776</td>\n",
       "      <td>318320</td>\n",
       "      <td>2624</td>\n",
       "      <td>26452.75</td>\n",
       "      <td>682.5</td>\n",
       "      <td>974.0</td>\n",
       "      <td>3611.85</td>\n",
       "      <td>590.42</td>\n",
       "      <td>588.3</td>\n",
       "      <td>32920.52</td>\n",
       "    </tr>\n",
       "    <tr>\n",
       "      <th>July</th>\n",
       "      <td>2653</td>\n",
       "      <td>2896</td>\n",
       "      <td>4785.59</td>\n",
       "      <td>1752</td>\n",
       "      <td>271979</td>\n",
       "      <td>270245</td>\n",
       "      <td>2316</td>\n",
       "      <td>21363.30</td>\n",
       "      <td>582.5</td>\n",
       "      <td>843.0</td>\n",
       "      <td>2811.47</td>\n",
       "      <td>497.62</td>\n",
       "      <td>507.9</td>\n",
       "      <td>26617.64</td>\n",
       "    </tr>\n",
       "    <tr>\n",
       "      <th>August</th>\n",
       "      <td>2731</td>\n",
       "      <td>2897</td>\n",
       "      <td>5146.53</td>\n",
       "      <td>1779</td>\n",
       "      <td>276694</td>\n",
       "      <td>280849</td>\n",
       "      <td>2340</td>\n",
       "      <td>22283.01</td>\n",
       "      <td>591.0</td>\n",
       "      <td>859.0</td>\n",
       "      <td>2955.44</td>\n",
       "      <td>545.36</td>\n",
       "      <td>516.9</td>\n",
       "      <td>27759.56</td>\n",
       "    </tr>\n",
       "    <tr>\n",
       "      <th>September</th>\n",
       "      <td>2712</td>\n",
       "      <td>2818</td>\n",
       "      <td>5100.54</td>\n",
       "      <td>1801</td>\n",
       "      <td>279502</td>\n",
       "      <td>279703</td>\n",
       "      <td>2330</td>\n",
       "      <td>22562.00</td>\n",
       "      <td>564.5</td>\n",
       "      <td>863.5</td>\n",
       "      <td>3133.24</td>\n",
       "      <td>559.64</td>\n",
       "      <td>519.6</td>\n",
       "      <td>28206.38</td>\n",
       "    </tr>\n",
       "    <tr>\n",
       "      <th>October</th>\n",
       "      <td>3152</td>\n",
       "      <td>3205</td>\n",
       "      <td>5859.36</td>\n",
       "      <td>2110</td>\n",
       "      <td>332945</td>\n",
       "      <td>330781</td>\n",
       "      <td>2681</td>\n",
       "      <td>26285.85</td>\n",
       "      <td>684.0</td>\n",
       "      <td>1008.0</td>\n",
       "      <td>3747.43</td>\n",
       "      <td>731.40</td>\n",
       "      <td>607.2</td>\n",
       "      <td>33065.83</td>\n",
       "    </tr>\n",
       "    <tr>\n",
       "      <th>November</th>\n",
       "      <td>2857</td>\n",
       "      <td>3040</td>\n",
       "      <td>5421.00</td>\n",
       "      <td>1909</td>\n",
       "      <td>299492</td>\n",
       "      <td>295828</td>\n",
       "      <td>2422</td>\n",
       "      <td>24518.00</td>\n",
       "      <td>572.0</td>\n",
       "      <td>918.5</td>\n",
       "      <td>3647.35</td>\n",
       "      <td>582.54</td>\n",
       "      <td>552.3</td>\n",
       "      <td>30800.44</td>\n",
       "    </tr>\n",
       "    <tr>\n",
       "      <th>December</th>\n",
       "      <td>2876</td>\n",
       "      <td>3053</td>\n",
       "      <td>5405.12</td>\n",
       "      <td>1940</td>\n",
       "      <td>296861</td>\n",
       "      <td>301498</td>\n",
       "      <td>2503</td>\n",
       "      <td>24987.40</td>\n",
       "      <td>593.5</td>\n",
       "      <td>925.0</td>\n",
       "      <td>3550.26</td>\n",
       "      <td>646.06</td>\n",
       "      <td>557.4</td>\n",
       "      <td>31261.57</td>\n",
       "    </tr>\n",
       "  </tbody>\n",
       "</table>\n",
       "</div>"
      ],
      "text/plain": [
       "           VendorID  passenger_count  trip_distance  RatecodeID  PULocationID  \\\n",
       "month                                                                           \n",
       "January        3109             3332        5656.20        2084        329368   \n",
       "February       2737             2911        5009.69        1834        288824   \n",
       "March          3171             3316        5907.93        2140        332704   \n",
       "April          3138             3233        5925.07        2196        332870   \n",
       "May            3117             3308        6065.43        2083        327583   \n",
       "June           3072             3270        5846.83        2056        317776   \n",
       "July           2653             2896        4785.59        1752        271979   \n",
       "August         2731             2897        5146.53        1779        276694   \n",
       "September      2712             2818        5100.54        1801        279502   \n",
       "October        3152             3205        5859.36        2110        332945   \n",
       "November       2857             3040        5421.00        1909        299492   \n",
       "December       2876             3053        5405.12        1940        296861   \n",
       "\n",
       "           DOLocationID  payment_type  fare_amount  extra  mta_tax  \\\n",
       "month                                                                \n",
       "January          322659          2651     25287.20  628.5    994.0   \n",
       "February         285397          2315     23006.19  599.0    880.5   \n",
       "March            332632          2740     26439.54  708.5   1018.0   \n",
       "April            328181          2727     25536.20  662.5   1004.5   \n",
       "May              320431          2697     26970.02  696.5   1003.5   \n",
       "June             318320          2624     26452.75  682.5    974.0   \n",
       "July             270245          2316     21363.30  582.5    843.0   \n",
       "August           280849          2340     22283.01  591.0    859.0   \n",
       "September        279703          2330     22562.00  564.5    863.5   \n",
       "October          330781          2681     26285.85  684.0   1008.0   \n",
       "November         295828          2422     24518.00  572.0    918.5   \n",
       "December         301498          2503     24987.40  593.5    925.0   \n",
       "\n",
       "           tip_amount  tolls_amount  improvement_surcharge  total_amount  \n",
       "month                                                                     \n",
       "January       3574.85        637.50                  598.5      31735.25  \n",
       "February      3422.28        489.02                  530.1      28937.89  \n",
       "March         3708.97        590.48                  613.5      33085.89  \n",
       "April         3594.32        602.72                  604.5      32012.54  \n",
       "May           3912.94        621.62                  603.3      33828.58  \n",
       "June          3611.85        590.42                  588.3      32920.52  \n",
       "July          2811.47        497.62                  507.9      26617.64  \n",
       "August        2955.44        545.36                  516.9      27759.56  \n",
       "September     3133.24        559.64                  519.6      28206.38  \n",
       "October       3747.43        731.40                  607.2      33065.83  \n",
       "November      3647.35        582.54                  552.3      30800.44  \n",
       "December      3550.26        646.06                  557.4      31261.57  "
      ]
     },
     "execution_count": 24,
     "metadata": {},
     "output_type": "execute_result"
    }
   ],
   "source": [
    "# Filter numeric columns\n",
    "numeric_cols = df.select_dtypes(include=np.number).columns\n",
    "\n",
    "# Calculate the sum of numeric columns by month\n",
    "total_amount_month = df.groupby('month')[numeric_cols].sum()\n",
    "\n",
    "# Reindex to ensure all months are included\n",
    "total_amount_month = total_amount_month.reindex(index=month_order)\n",
    "total_amount_month\n"
   ]
  },
  {
   "cell_type": "code",
   "execution_count": 25,
   "id": "fd781d82-9995-4fd4-95fc-1d7a0fd286e7",
   "metadata": {},
   "outputs": [
    {
     "data": {
      "image/png": "[encoded data removed]",
      "text/plain": [
       "<Figure size 1200x700 with 1 Axes>"
      ]
     },
     "metadata": {},
     "output_type": "display_data"
    }
   ],
   "source": [
    "# Create a bar plot of total revenue by month\n",
    "plt.figure(figsize=(12,7))\n",
    "ax = sns.barplot(x=total_amount_month.index, y=total_amount_month['total_amount'])\n",
    "plt.title('Total revenue by month', fontsize=16);"
   ]
  },
  {
   "cell_type": "markdown",
   "id": "414c4b22-209e-44f4-966a-ab4fe9a43a9b",
   "metadata": {},
   "source": [
    "**Note:** Monthly revenue generally follows the pattern of monthly rides, with noticeable dips in the summer months of July, August, and September, and also one in February."
   ]
  },
  {
   "cell_type": "markdown",
   "id": "47c62e5b-fab5-4e7e-8e6d-3a4176eece51",
   "metadata": {},
   "source": [
    "**Plot mean trip distance by drop-off location**"
   ]
  },
  {
   "cell_type": "code",
   "execution_count": 26,
   "id": "9ce4fc41-0a7c-4568-84f2-0045ccc04f98",
   "metadata": {},
   "outputs": [
    {
     "data": {
      "text/plain": [
       "216"
      ]
     },
     "execution_count": 26,
     "metadata": {},
     "output_type": "execute_result"
    }
   ],
   "source": [
    "# Get number of unique drop-off location IDs\n",
    "df['DOLocationID'].nunique()"
   ]
  },
  {
   "cell_type": "code",
   "execution_count": 27,
   "id": "253352b1-16b1-43e0-91c9-59f729f35f64",
   "metadata": {},
   "outputs": [
    {
     "data": {
      "text/plain": [
       "DOLocationID\n",
       "207     1.200000\n",
       "193     1.390556\n",
       "237     1.555494\n",
       "234     1.727806\n",
       "137     1.818852\n",
       "         ...    \n",
       "51     17.310000\n",
       "11     17.945000\n",
       "210    20.500000\n",
       "29     21.650000\n",
       "23     24.275000\n",
       "Name: trip_distance, Length: 216, dtype: float64"
      ]
     },
     "execution_count": 27,
     "metadata": {},
     "output_type": "execute_result"
    }
   ],
   "source": [
    "import pandas as pd\n",
    "\n",
    "# Define a custom function to calculate the mean trip distance, ignoring non-numeric values\n",
    "def mean_trip_distance(series):\n",
    "    numeric_values = pd.to_numeric(series, errors='coerce')  # Convert values to numeric, coercing errors to NaN\n",
    "    numeric_values = numeric_values.dropna()  # Drop NaN values\n",
    "    return numeric_values.mean()  # Calculate mean of numeric values\n",
    "\n",
    "# Apply the custom function to calculate the mean trip distance by DOLocationID\n",
    "distance_by_dropoff = df.groupby('DOLocationID')['trip_distance'].apply(mean_trip_distance)\n",
    "\n",
    "# Sort the results in descending order by mean trip distance\n",
    "distance_by_dropoff = distance_by_dropoff.sort_values(ascending=True)\n",
    "distance_by_dropoff\n"
   ]
  },
  {
   "cell_type": "code",
   "execution_count": 28,
   "id": "33b45b1d-414a-4062-9cc8-dfd6c377bfb2",
   "metadata": {},
   "outputs": [
    {
     "data": {
      "image/png": "[encoded data removed]",
      "text/plain": [
       "<Figure size 1000x500 with 1 Axes>"
      ]
     },
     "metadata": {},
     "output_type": "display_data"
    }
   ],
   "source": [
    "import matplotlib.pyplot as plt\n",
    "import seaborn as sns\n",
    "\n",
    "# Create a bar plot of mean trip distances by drop-off location in ascending order by distance\n",
    "plt.figure(figsize=(10,5))\n",
    "ax = sns.barplot(x=distance_by_dropoff.index, \n",
    "                 y=distance_by_dropoff,\n",
    "                 order=distance_by_dropoff.index)\n",
    "ax.set_xticklabels([])\n",
    "ax.set_xticks([])\n",
    "plt.show()\n"
   ]
  },
  {
   "cell_type": "markdown",
   "id": "2fd3a55d-105d-4dfb-a72c-45a29fd6660c",
   "metadata": {},
   "source": [
    "**Note:** This plot presents a characteristic curve related to the cumulative density function of a normal distribution. In other words, it indicates that the drop-off points are relatively evenly distributed over the terrain. This is good to know, because geographic coordinates were not included in this dataset, so there was no obvious way to test for the distibution of locations. \n",
    "\n",
    "To confirm this conclusion, consider the following experiment:\n",
    "1. Create a sample of coordinates from a normal distribution&mdash;in this case 1,500 pairs of points from a normal distribution with a mean of 10 and a standard deviation of 5\n",
    "2. Calculate the distance between each pair of coordinates \n",
    "3. Group the coordinates by endpoint and calculate the mean distance between that endpoint and all other points it was paired with\n",
    "4. Plot the mean distance for each unique endpoint"
   ]
  },
  {
   "cell_type": "code",
   "execution_count": 29,
   "id": "1830bab7-2cf7-4e4e-adf8-f6b399bad66c",
   "metadata": {},
   "outputs": [
    {
     "data": {
      "image/png": "[encoded data removed]",
      "text/plain": [
       "<Figure size 1400x600 with 1 Axes>"
      ]
     },
     "metadata": {},
     "output_type": "display_data"
    }
   ],
   "source": [
    "# 1. Generate random points on a 2D plane from a normal distribution\n",
    "test = np.round(np.random.normal(10, 5, (3000, 2)), 1)\n",
    "midway = int(len(test)/2)  # Calculate midpoint of the array of coordinates\n",
    "start = test[:midway]      # Isolate first half of array (\"pick-up locations\")\n",
    "end = test[midway:]        # Isolate second half of array (\"drop-off locations\")\n",
    "\n",
    "# 2. Calculate Euclidean distances between points in first half and second half of array\n",
    "distances = (start - end)**2           \n",
    "distances = distances.sum(axis=-1)\n",
    "distances = np.sqrt(distances)\n",
    "\n",
    "# 3. Group the coordinates by \"drop-off location\", compute mean distance\n",
    "test_df = pd.DataFrame({'start': [tuple(x) for x in start.tolist()],\n",
    "                   'end': [tuple(x) for x in end.tolist()],\n",
    "                   'distance': distances})\n",
    "data = test_df[['end', 'distance']].groupby('end').mean()\n",
    "data = data.sort_values(by='distance')\n",
    "\n",
    "# 4. Plot the mean distance between each endpoint (\"drop-off location\") and all points it connected to\n",
    "plt.figure(figsize=(14,6))\n",
    "ax = sns.barplot(x=data.index,\n",
    "                 y=data['distance'],\n",
    "                 order=data.index)\n",
    "ax.set_xticklabels([])\n",
    "ax.set_xticks([])\n",
    "ax.set_xlabel('Endpoint')\n",
    "ax.set_ylabel('Mean distance to all other points')\n",
    "ax.set_title('Mean distance between points taken randomly from normal distribution');"
   ]
  },
  {
   "cell_type": "markdown",
   "id": "b28bcbfd-778e-4be0-9fc8-52203718be7e",
   "metadata": {},
   "source": [
    "**Note:** The curve described by this graph is nearly identical to that of the mean distance traveled by each taxi ride to each drop-off location. This reveals that the drop-off locations in the taxi dataset are evenly distributed geographically. Note, however, that this does *not* mean that there was an even distrubtion of *rides* to each drop-off point. Examine this next."
   ]
  },
  {
   "cell_type": "markdown",
   "id": "eeac6349-f35b-4bb7-8225-2e5a346c796b",
   "metadata": {},
   "source": [
    "**Histogram of rides by drop-off location**"
   ]
  },
  {
   "cell_type": "code",
   "execution_count": 30,
   "id": "11cfbb69-d694-4ed2-ad27-f76e6c8b14d1",
   "metadata": {},
   "outputs": [
    {
     "data": {
      "text/plain": [
       "49"
      ]
     },
     "execution_count": 30,
     "metadata": {},
     "output_type": "execute_result"
    }
   ],
   "source": [
    "# Check if all drop-off locations are consecutively numbered\n",
    "df['DOLocationID'].max() - len(set(df['DOLocationID'])) "
   ]
  },
  {
   "cell_type": "markdown",
   "id": "a24c71cb-ada9-45d5-88dc-467008d6aa3f",
   "metadata": {},
   "source": [
    "**Note:** There are 49 numbers that do not represent a drop-off location. \n",
    "\n",
    "To eliminate the spaces in the historgram that these missing numbers would create, sort the unique drop-off location values, then convert them to strings. This will make the histplot function display all bars directly next to each other."
   ]
  },
  {
   "cell_type": "code",
   "execution_count": 31,
   "id": "019c4031-8400-47b7-a3a7-d637f3d7ce00",
   "metadata": {},
   "outputs": [
    {
     "data": {
      "image/png": "[encoded data removed]",
      "text/plain": [
       "<Figure size 1400x400 with 1 Axes>"
      ]
     },
     "metadata": {},
     "output_type": "display_data"
    }
   ],
   "source": [
    "plt.figure(figsize=(14,4))\n",
    "# DOLocationID column is numeric, so sort in ascending order\n",
    "sorted_dropoffs = df['DOLocationID'].sort_values()\n",
    "# Convert to string\n",
    "sorted_dropoffs = sorted_dropoffs.astype('str')\n",
    "# Plot\n",
    "sns.histplot(sorted_dropoffs, bins=range(0, df['DOLocationID'].max()+1, 1))\n",
    "plt.xticks([])\n",
    "plt.xlabel('Drop-off locations')\n",
    "plt.title('Histogram of rides by drop-off location', fontsize=16);"
   ]
  },
  {
   "cell_type": "markdown",
   "id": "85eff1ef-ecdd-44c2-997b-f606f7845379",
   "metadata": {},
   "source": [
    "**Note:** Notice that out of the 200+ drop-off locations, a disproportionate number of locations receive the majority of the traffic, while all the rest get relatively few trips. It's likely that these high-traffic locations are near popular tourist attractions like the Empire State Building or Times Square, airports, and train and bus terminals. However, it would be helpful to know the location that each ID corresponds with. Unfortunately, this is not in the data."
   ]
  },
  {
   "cell_type": "markdown",
   "id": "d2d87cbc-26ee-477e-893e-9a97658ab87a",
   "metadata": {},
   "source": [
    "<img src=\"images/Execute.png\" width=\"100\" height=\"100\" align=left>\n",
    "\n",
    "## PACE: Execute \n",
    "\n",
    "Consider the PACE Strategy Document to reflect on the Execute stage."
   ]
  },
  {
   "cell_type": "markdown",
   "id": "b4da2cf9-bb7a-460d-8335-10ac7943d0a0",
   "metadata": {},
   "source": [
    "I have learned .... the highest distribution of trip distances are below 5 miles, but there are outliers all the way out to 35 miles. There are no missing values. \n",
    "\n",
    "My other questions are .... There are several trips that have a trip distance of \"0.0.\" What might those trips be? Will they impact our model? \n",
    "\n",
    "My client would likely want to know ... that the data includes dropoff and pickup times. We can use that information to derive a trip duration for each line of data. This would likely be something that will help the client with their model. \n",
    "\n",
    "visualized the data you need to share with the director now. Remember, the goal of a data visualization is for an audience member to glean the information on the chart in mere seconds.\n",
    "\n",
    "### Task 4b. Conclusion\n",
    "\n",
    "EDA is important because ... \n",
    "\n",
    "* *EDA helps a data professional to get to know the data, understand its outliers, clean its missing values, and prepare it for future modeling.* \n",
    "\n",
    "Visualizations helped me understand ..\n",
    "\n",
    "* *That this dataset has some outliers that we will need to make decisions on prior to designing a model.*"
   ]
  }
 ],
 "metadata": {
  "kernelspec": {
   "display_name": "Python 3 (ipykernel)",
   "language": "python",
   "name": "python3"
  },
  "language_info": {
   "codemirror_mode": {
    "name": "ipython",
    "version": 3
   },
   "file_extension": ".py",
   "mimetype": "text/x-python",
   "name": "python",
   "nbconvert_exporter": "python",
   "pygments_lexer": "ipython3",
   "version": "3.11.5"
  }
 },
 "nbformat": 4,
 "nbformat_minor": 5
}
